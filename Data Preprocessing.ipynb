{
 "cells": [
  {
   "metadata": {},
   "cell_type": "markdown",
   "source": "# Data Preprocessing",
   "id": "af036453d521b480"
  },
  {
   "metadata": {},
   "cell_type": "markdown",
   "source": "## Load Dataset",
   "id": "2c7e3e130c9a5407"
  },
  {
   "metadata": {
    "ExecuteTime": {
     "end_time": "2025-05-25T12:25:06.878783Z",
     "start_time": "2025-05-25T12:24:59.342786Z"
    }
   },
   "cell_type": "code",
   "source": [
    "# import libraries\n",
    "import pandas as pd\n",
    "from datasets import Dataset\n",
    "from ast import literal_eval\n",
    "from transformers import AutoTokenizer\n",
    "import numpy as np\n",
    "from evaluate import load"
   ],
   "id": "d835d51a2b5bcfed",
   "outputs": [],
   "execution_count": 1
  },
  {
   "metadata": {
    "ExecuteTime": {
     "end_time": "2025-05-25T12:25:07.674641Z",
     "start_time": "2025-05-25T12:25:07.488155Z"
    }
   },
   "cell_type": "code",
   "source": [
    "# Load your CSV file\n",
    "df = pd.read_csv('dataset/ner.csv')\n",
    "\n",
    "# Inspect the dataframe to understand its structure\n",
    "df.head()"
   ],
   "id": "5fff1c23e45fab8d",
   "outputs": [
    {
     "data": {
      "text/plain": [
       "    Sentence #                                           Sentence  \\\n",
       "0  Sentence: 1  Thousands of demonstrators have marched throug...   \n",
       "1  Sentence: 2  Families of soldiers killed in the conflict jo...   \n",
       "2  Sentence: 3  They marched from the Houses of Parliament to ...   \n",
       "3  Sentence: 4  Police put the number of marchers at 10,000 wh...   \n",
       "4  Sentence: 5  The protest comes on the eve of the annual con...   \n",
       "\n",
       "                                                 POS  \\\n",
       "0  ['NNS', 'IN', 'NNS', 'VBP', 'VBN', 'IN', 'NNP'...   \n",
       "1  ['NNS', 'IN', 'NNS', 'VBN', 'IN', 'DT', 'NN', ...   \n",
       "2  ['PRP', 'VBD', 'IN', 'DT', 'NNS', 'IN', 'NN', ...   \n",
       "3  ['NNS', 'VBD', 'DT', 'NN', 'IN', 'NNS', 'IN', ...   \n",
       "4  ['DT', 'NN', 'VBZ', 'IN', 'DT', 'NN', 'IN', 'D...   \n",
       "\n",
       "                                                 Tag  \n",
       "0  ['O', 'O', 'O', 'O', 'O', 'O', 'B-geo', 'O', '...  \n",
       "1  ['O', 'O', 'O', 'O', 'O', 'O', 'O', 'O', 'O', ...  \n",
       "2  ['O', 'O', 'O', 'O', 'O', 'O', 'O', 'O', 'O', ...  \n",
       "3  ['O', 'O', 'O', 'O', 'O', 'O', 'O', 'O', 'O', ...  \n",
       "4  ['O', 'O', 'O', 'O', 'O', 'O', 'O', 'O', 'O', ...  "
      ],
      "text/html": [
       "<div>\n",
       "<style scoped>\n",
       "    .dataframe tbody tr th:only-of-type {\n",
       "        vertical-align: middle;\n",
       "    }\n",
       "\n",
       "    .dataframe tbody tr th {\n",
       "        vertical-align: top;\n",
       "    }\n",
       "\n",
       "    .dataframe thead th {\n",
       "        text-align: right;\n",
       "    }\n",
       "</style>\n",
       "<table border=\"1\" class=\"dataframe\">\n",
       "  <thead>\n",
       "    <tr style=\"text-align: right;\">\n",
       "      <th></th>\n",
       "      <th>Sentence #</th>\n",
       "      <th>Sentence</th>\n",
       "      <th>POS</th>\n",
       "      <th>Tag</th>\n",
       "    </tr>\n",
       "  </thead>\n",
       "  <tbody>\n",
       "    <tr>\n",
       "      <th>0</th>\n",
       "      <td>Sentence: 1</td>\n",
       "      <td>Thousands of demonstrators have marched throug...</td>\n",
       "      <td>['NNS', 'IN', 'NNS', 'VBP', 'VBN', 'IN', 'NNP'...</td>\n",
       "      <td>['O', 'O', 'O', 'O', 'O', 'O', 'B-geo', 'O', '...</td>\n",
       "    </tr>\n",
       "    <tr>\n",
       "      <th>1</th>\n",
       "      <td>Sentence: 2</td>\n",
       "      <td>Families of soldiers killed in the conflict jo...</td>\n",
       "      <td>['NNS', 'IN', 'NNS', 'VBN', 'IN', 'DT', 'NN', ...</td>\n",
       "      <td>['O', 'O', 'O', 'O', 'O', 'O', 'O', 'O', 'O', ...</td>\n",
       "    </tr>\n",
       "    <tr>\n",
       "      <th>2</th>\n",
       "      <td>Sentence: 3</td>\n",
       "      <td>They marched from the Houses of Parliament to ...</td>\n",
       "      <td>['PRP', 'VBD', 'IN', 'DT', 'NNS', 'IN', 'NN', ...</td>\n",
       "      <td>['O', 'O', 'O', 'O', 'O', 'O', 'O', 'O', 'O', ...</td>\n",
       "    </tr>\n",
       "    <tr>\n",
       "      <th>3</th>\n",
       "      <td>Sentence: 4</td>\n",
       "      <td>Police put the number of marchers at 10,000 wh...</td>\n",
       "      <td>['NNS', 'VBD', 'DT', 'NN', 'IN', 'NNS', 'IN', ...</td>\n",
       "      <td>['O', 'O', 'O', 'O', 'O', 'O', 'O', 'O', 'O', ...</td>\n",
       "    </tr>\n",
       "    <tr>\n",
       "      <th>4</th>\n",
       "      <td>Sentence: 5</td>\n",
       "      <td>The protest comes on the eve of the annual con...</td>\n",
       "      <td>['DT', 'NN', 'VBZ', 'IN', 'DT', 'NN', 'IN', 'D...</td>\n",
       "      <td>['O', 'O', 'O', 'O', 'O', 'O', 'O', 'O', 'O', ...</td>\n",
       "    </tr>\n",
       "  </tbody>\n",
       "</table>\n",
       "</div>"
      ]
     },
     "execution_count": 2,
     "metadata": {},
     "output_type": "execute_result"
    }
   ],
   "execution_count": 2
  },
  {
   "metadata": {},
   "cell_type": "markdown",
   "source": "## Change the Representation in Columns",
   "id": "af93bfaec098d6"
  },
  {
   "metadata": {
    "ExecuteTime": {
     "end_time": "2025-05-25T12:25:11.273607Z",
     "start_time": "2025-05-25T12:25:08.868999Z"
    }
   },
   "cell_type": "code",
   "source": [
    "# Try to convert POS and Tag to list representation instead of string\n",
    "print(\"POS Type (Before): \", type(df[\"POS\"][0]))\n",
    "print(\"Tag Type (Before): \", type(df[\"Tag\"][0]))\n",
    "\n",
    "df['POS'] = df['POS'].apply(literal_eval)\n",
    "df['Tag'] = df['Tag'].apply(literal_eval)\n",
    "\n",
    "print(\"POS Type (After): \", type(df[\"POS\"][0]))\n",
    "print(\"Tag Type (After): \", type(df[\"Tag\"][0]))"
   ],
   "id": "88d3d21ac4b9c4da",
   "outputs": [
    {
     "name": "stdout",
     "output_type": "stream",
     "text": [
      "POS Type (Before):  <class 'str'>\n",
      "Tag Type (Before):  <class 'str'>\n",
      "POS Type (After):  <class 'list'>\n",
      "Tag Type (After):  <class 'list'>\n"
     ]
    }
   ],
   "execution_count": 3
  },
  {
   "metadata": {},
   "cell_type": "markdown",
   "source": "## Tokenize the Sentence",
   "id": "1ae7c91a7d79e3e"
  },
  {
   "metadata": {
    "ExecuteTime": {
     "end_time": "2025-05-25T12:25:13.184690Z",
     "start_time": "2025-05-25T12:25:12.953069Z"
    }
   },
   "cell_type": "code",
   "source": [
    "# Preprocess 1: Tokenize the sentence and store in another column called Token\n",
    "from nltk.tokenize import word_tokenize\n",
    "import nltk\n",
    "# nltk.download('punkt')"
   ],
   "id": "66a928c22cc4e84",
   "outputs": [],
   "execution_count": 4
  },
  {
   "metadata": {
    "ExecuteTime": {
     "end_time": "2025-05-25T12:25:15.636167Z",
     "start_time": "2025-05-25T12:25:13.670285Z"
    }
   },
   "cell_type": "code",
   "source": "df['Token'] = df['Sentence'].map(word_tokenize)",
   "id": "85c8bd5efd193ae2",
   "outputs": [],
   "execution_count": 5
  },
  {
   "metadata": {
    "ExecuteTime": {
     "end_time": "2025-05-25T12:25:15.648959Z",
     "start_time": "2025-05-25T12:25:15.643629Z"
    }
   },
   "cell_type": "code",
   "source": "df.head()",
   "id": "bc5fd4e1d7d279e0",
   "outputs": [
    {
     "data": {
      "text/plain": [
       "    Sentence #                                           Sentence  \\\n",
       "0  Sentence: 1  Thousands of demonstrators have marched throug...   \n",
       "1  Sentence: 2  Families of soldiers killed in the conflict jo...   \n",
       "2  Sentence: 3  They marched from the Houses of Parliament to ...   \n",
       "3  Sentence: 4  Police put the number of marchers at 10,000 wh...   \n",
       "4  Sentence: 5  The protest comes on the eve of the annual con...   \n",
       "\n",
       "                                                 POS  \\\n",
       "0  [NNS, IN, NNS, VBP, VBN, IN, NNP, TO, VB, DT, ...   \n",
       "1  [NNS, IN, NNS, VBN, IN, DT, NN, VBD, DT, NNS, ...   \n",
       "2  [PRP, VBD, IN, DT, NNS, IN, NN, TO, DT, NN, IN...   \n",
       "3  [NNS, VBD, DT, NN, IN, NNS, IN, CD, IN, NNS, V...   \n",
       "4  [DT, NN, VBZ, IN, DT, NN, IN, DT, JJ, NN, IN, ...   \n",
       "\n",
       "                                                 Tag  \\\n",
       "0  [O, O, O, O, O, O, B-geo, O, O, O, O, O, B-geo...   \n",
       "1  [O, O, O, O, O, O, O, O, O, O, O, O, O, O, O, ...   \n",
       "2  [O, O, O, O, O, O, O, O, O, O, O, B-geo, I-geo...   \n",
       "3      [O, O, O, O, O, O, O, O, O, O, O, O, O, O, O]   \n",
       "4  [O, O, O, O, O, O, O, O, O, O, O, B-geo, O, O,...   \n",
       "\n",
       "                                               Token  \n",
       "0  [Thousands, of, demonstrators, have, marched, ...  \n",
       "1  [Families, of, soldiers, killed, in, the, conf...  \n",
       "2  [They, marched, from, the, Houses, of, Parliam...  \n",
       "3  [Police, put, the, number, of, marchers, at, 1...  \n",
       "4  [The, protest, comes, on, the, eve, of, the, a...  "
      ],
      "text/html": [
       "<div>\n",
       "<style scoped>\n",
       "    .dataframe tbody tr th:only-of-type {\n",
       "        vertical-align: middle;\n",
       "    }\n",
       "\n",
       "    .dataframe tbody tr th {\n",
       "        vertical-align: top;\n",
       "    }\n",
       "\n",
       "    .dataframe thead th {\n",
       "        text-align: right;\n",
       "    }\n",
       "</style>\n",
       "<table border=\"1\" class=\"dataframe\">\n",
       "  <thead>\n",
       "    <tr style=\"text-align: right;\">\n",
       "      <th></th>\n",
       "      <th>Sentence #</th>\n",
       "      <th>Sentence</th>\n",
       "      <th>POS</th>\n",
       "      <th>Tag</th>\n",
       "      <th>Token</th>\n",
       "    </tr>\n",
       "  </thead>\n",
       "  <tbody>\n",
       "    <tr>\n",
       "      <th>0</th>\n",
       "      <td>Sentence: 1</td>\n",
       "      <td>Thousands of demonstrators have marched throug...</td>\n",
       "      <td>[NNS, IN, NNS, VBP, VBN, IN, NNP, TO, VB, DT, ...</td>\n",
       "      <td>[O, O, O, O, O, O, B-geo, O, O, O, O, O, B-geo...</td>\n",
       "      <td>[Thousands, of, demonstrators, have, marched, ...</td>\n",
       "    </tr>\n",
       "    <tr>\n",
       "      <th>1</th>\n",
       "      <td>Sentence: 2</td>\n",
       "      <td>Families of soldiers killed in the conflict jo...</td>\n",
       "      <td>[NNS, IN, NNS, VBN, IN, DT, NN, VBD, DT, NNS, ...</td>\n",
       "      <td>[O, O, O, O, O, O, O, O, O, O, O, O, O, O, O, ...</td>\n",
       "      <td>[Families, of, soldiers, killed, in, the, conf...</td>\n",
       "    </tr>\n",
       "    <tr>\n",
       "      <th>2</th>\n",
       "      <td>Sentence: 3</td>\n",
       "      <td>They marched from the Houses of Parliament to ...</td>\n",
       "      <td>[PRP, VBD, IN, DT, NNS, IN, NN, TO, DT, NN, IN...</td>\n",
       "      <td>[O, O, O, O, O, O, O, O, O, O, O, B-geo, I-geo...</td>\n",
       "      <td>[They, marched, from, the, Houses, of, Parliam...</td>\n",
       "    </tr>\n",
       "    <tr>\n",
       "      <th>3</th>\n",
       "      <td>Sentence: 4</td>\n",
       "      <td>Police put the number of marchers at 10,000 wh...</td>\n",
       "      <td>[NNS, VBD, DT, NN, IN, NNS, IN, CD, IN, NNS, V...</td>\n",
       "      <td>[O, O, O, O, O, O, O, O, O, O, O, O, O, O, O]</td>\n",
       "      <td>[Police, put, the, number, of, marchers, at, 1...</td>\n",
       "    </tr>\n",
       "    <tr>\n",
       "      <th>4</th>\n",
       "      <td>Sentence: 5</td>\n",
       "      <td>The protest comes on the eve of the annual con...</td>\n",
       "      <td>[DT, NN, VBZ, IN, DT, NN, IN, DT, JJ, NN, IN, ...</td>\n",
       "      <td>[O, O, O, O, O, O, O, O, O, O, O, B-geo, O, O,...</td>\n",
       "      <td>[The, protest, comes, on, the, eve, of, the, a...</td>\n",
       "    </tr>\n",
       "  </tbody>\n",
       "</table>\n",
       "</div>"
      ]
     },
     "execution_count": 6,
     "metadata": {},
     "output_type": "execute_result"
    }
   ],
   "execution_count": 6
  },
  {
   "metadata": {},
   "cell_type": "markdown",
   "source": "## Map the BIO Tags to dslim's Tags (Pre-trained model)",
   "id": "19b569d370c124f4"
  },
  {
   "metadata": {
    "ExecuteTime": {
     "end_time": "2025-05-25T12:25:17.296966Z",
     "start_time": "2025-05-25T12:25:17.294330Z"
    }
   },
   "cell_type": "code",
   "source": [
    "# Preprocess 2: Map the BIO entity type in the NER Tag - Tag mapping from current tags to dslim's tags\n",
    "tag_mapping = {\n",
    "    'B-art': 'B-MISC', 'I-art': 'I-MISC',\n",
    "    'B-eve': 'B-MISC', 'I-eve': 'I-MISC',\n",
    "    'B-geo': 'B-LOC', 'I-geo': 'I-LOC',\n",
    "    'B-gpe': 'B-LOC', 'I-gpe': 'I-LOC',\n",
    "    'B-nat': 'B-MISC', 'I-nat': 'I-MISC',\n",
    "    'B-org': 'B-ORG', 'I-org': 'I-ORG',\n",
    "    'B-per': 'B-PER', 'I-per': 'I-PER',\n",
    "    'B-tim': 'B-MISC', 'I-tim': 'I-MISC',\n",
    "    'O': 'O'\n",
    "}"
   ],
   "id": "6f87c33d943d20a8",
   "outputs": [],
   "execution_count": 7
  },
  {
   "metadata": {
    "ExecuteTime": {
     "end_time": "2025-05-25T12:25:18.162231Z",
     "start_time": "2025-05-25T12:25:18.159334Z"
    }
   },
   "cell_type": "code",
   "source": [
    "def map_tags(ner_tags):\n",
    "    new_tags = [tag_mapping[tag] for tag in ner_tags]\n",
    "    return new_tags"
   ],
   "id": "56204c9f79031ebf",
   "outputs": [],
   "execution_count": 8
  },
  {
   "metadata": {
    "ExecuteTime": {
     "end_time": "2025-05-25T12:25:19.012828Z",
     "start_time": "2025-05-25T12:25:18.961232Z"
    }
   },
   "cell_type": "code",
   "source": "df['New_Tag'] = df['Tag'].apply(map_tags)",
   "id": "613e31322320fe83",
   "outputs": [],
   "execution_count": 9
  },
  {
   "metadata": {
    "ExecuteTime": {
     "end_time": "2025-05-25T12:25:19.640599Z",
     "start_time": "2025-05-25T12:25:19.630899Z"
    }
   },
   "cell_type": "code",
   "source": "df.head()",
   "id": "631e404e698549b6",
   "outputs": [
    {
     "data": {
      "text/plain": [
       "    Sentence #                                           Sentence  \\\n",
       "0  Sentence: 1  Thousands of demonstrators have marched throug...   \n",
       "1  Sentence: 2  Families of soldiers killed in the conflict jo...   \n",
       "2  Sentence: 3  They marched from the Houses of Parliament to ...   \n",
       "3  Sentence: 4  Police put the number of marchers at 10,000 wh...   \n",
       "4  Sentence: 5  The protest comes on the eve of the annual con...   \n",
       "\n",
       "                                                 POS  \\\n",
       "0  [NNS, IN, NNS, VBP, VBN, IN, NNP, TO, VB, DT, ...   \n",
       "1  [NNS, IN, NNS, VBN, IN, DT, NN, VBD, DT, NNS, ...   \n",
       "2  [PRP, VBD, IN, DT, NNS, IN, NN, TO, DT, NN, IN...   \n",
       "3  [NNS, VBD, DT, NN, IN, NNS, IN, CD, IN, NNS, V...   \n",
       "4  [DT, NN, VBZ, IN, DT, NN, IN, DT, JJ, NN, IN, ...   \n",
       "\n",
       "                                                 Tag  \\\n",
       "0  [O, O, O, O, O, O, B-geo, O, O, O, O, O, B-geo...   \n",
       "1  [O, O, O, O, O, O, O, O, O, O, O, O, O, O, O, ...   \n",
       "2  [O, O, O, O, O, O, O, O, O, O, O, B-geo, I-geo...   \n",
       "3      [O, O, O, O, O, O, O, O, O, O, O, O, O, O, O]   \n",
       "4  [O, O, O, O, O, O, O, O, O, O, O, B-geo, O, O,...   \n",
       "\n",
       "                                               Token  \\\n",
       "0  [Thousands, of, demonstrators, have, marched, ...   \n",
       "1  [Families, of, soldiers, killed, in, the, conf...   \n",
       "2  [They, marched, from, the, Houses, of, Parliam...   \n",
       "3  [Police, put, the, number, of, marchers, at, 1...   \n",
       "4  [The, protest, comes, on, the, eve, of, the, a...   \n",
       "\n",
       "                                             New_Tag  \n",
       "0  [O, O, O, O, O, O, B-LOC, O, O, O, O, O, B-LOC...  \n",
       "1  [O, O, O, O, O, O, O, O, O, O, O, O, O, O, O, ...  \n",
       "2  [O, O, O, O, O, O, O, O, O, O, O, B-LOC, I-LOC...  \n",
       "3      [O, O, O, O, O, O, O, O, O, O, O, O, O, O, O]  \n",
       "4  [O, O, O, O, O, O, O, O, O, O, O, B-LOC, O, O,...  "
      ],
      "text/html": [
       "<div>\n",
       "<style scoped>\n",
       "    .dataframe tbody tr th:only-of-type {\n",
       "        vertical-align: middle;\n",
       "    }\n",
       "\n",
       "    .dataframe tbody tr th {\n",
       "        vertical-align: top;\n",
       "    }\n",
       "\n",
       "    .dataframe thead th {\n",
       "        text-align: right;\n",
       "    }\n",
       "</style>\n",
       "<table border=\"1\" class=\"dataframe\">\n",
       "  <thead>\n",
       "    <tr style=\"text-align: right;\">\n",
       "      <th></th>\n",
       "      <th>Sentence #</th>\n",
       "      <th>Sentence</th>\n",
       "      <th>POS</th>\n",
       "      <th>Tag</th>\n",
       "      <th>Token</th>\n",
       "      <th>New_Tag</th>\n",
       "    </tr>\n",
       "  </thead>\n",
       "  <tbody>\n",
       "    <tr>\n",
       "      <th>0</th>\n",
       "      <td>Sentence: 1</td>\n",
       "      <td>Thousands of demonstrators have marched throug...</td>\n",
       "      <td>[NNS, IN, NNS, VBP, VBN, IN, NNP, TO, VB, DT, ...</td>\n",
       "      <td>[O, O, O, O, O, O, B-geo, O, O, O, O, O, B-geo...</td>\n",
       "      <td>[Thousands, of, demonstrators, have, marched, ...</td>\n",
       "      <td>[O, O, O, O, O, O, B-LOC, O, O, O, O, O, B-LOC...</td>\n",
       "    </tr>\n",
       "    <tr>\n",
       "      <th>1</th>\n",
       "      <td>Sentence: 2</td>\n",
       "      <td>Families of soldiers killed in the conflict jo...</td>\n",
       "      <td>[NNS, IN, NNS, VBN, IN, DT, NN, VBD, DT, NNS, ...</td>\n",
       "      <td>[O, O, O, O, O, O, O, O, O, O, O, O, O, O, O, ...</td>\n",
       "      <td>[Families, of, soldiers, killed, in, the, conf...</td>\n",
       "      <td>[O, O, O, O, O, O, O, O, O, O, O, O, O, O, O, ...</td>\n",
       "    </tr>\n",
       "    <tr>\n",
       "      <th>2</th>\n",
       "      <td>Sentence: 3</td>\n",
       "      <td>They marched from the Houses of Parliament to ...</td>\n",
       "      <td>[PRP, VBD, IN, DT, NNS, IN, NN, TO, DT, NN, IN...</td>\n",
       "      <td>[O, O, O, O, O, O, O, O, O, O, O, B-geo, I-geo...</td>\n",
       "      <td>[They, marched, from, the, Houses, of, Parliam...</td>\n",
       "      <td>[O, O, O, O, O, O, O, O, O, O, O, B-LOC, I-LOC...</td>\n",
       "    </tr>\n",
       "    <tr>\n",
       "      <th>3</th>\n",
       "      <td>Sentence: 4</td>\n",
       "      <td>Police put the number of marchers at 10,000 wh...</td>\n",
       "      <td>[NNS, VBD, DT, NN, IN, NNS, IN, CD, IN, NNS, V...</td>\n",
       "      <td>[O, O, O, O, O, O, O, O, O, O, O, O, O, O, O]</td>\n",
       "      <td>[Police, put, the, number, of, marchers, at, 1...</td>\n",
       "      <td>[O, O, O, O, O, O, O, O, O, O, O, O, O, O, O]</td>\n",
       "    </tr>\n",
       "    <tr>\n",
       "      <th>4</th>\n",
       "      <td>Sentence: 5</td>\n",
       "      <td>The protest comes on the eve of the annual con...</td>\n",
       "      <td>[DT, NN, VBZ, IN, DT, NN, IN, DT, JJ, NN, IN, ...</td>\n",
       "      <td>[O, O, O, O, O, O, O, O, O, O, O, B-geo, O, O,...</td>\n",
       "      <td>[The, protest, comes, on, the, eve, of, the, a...</td>\n",
       "      <td>[O, O, O, O, O, O, O, O, O, O, O, B-LOC, O, O,...</td>\n",
       "    </tr>\n",
       "  </tbody>\n",
       "</table>\n",
       "</div>"
      ]
     },
     "execution_count": 10,
     "metadata": {},
     "output_type": "execute_result"
    }
   ],
   "execution_count": 10
  },
  {
   "metadata": {},
   "cell_type": "markdown",
   "source": "## Check any Mismatch Length between Token and POS or Ner Tags",
   "id": "34da8b8a8eacf941"
  },
  {
   "metadata": {
    "ExecuteTime": {
     "end_time": "2025-05-25T12:25:21.494485Z",
     "start_time": "2025-05-25T12:25:21.491247Z"
    }
   },
   "cell_type": "code",
   "source": [
    "# Checking Function to identify problematic rows\n",
    "def is_valid_row(row):\n",
    "    token = row['Token']\n",
    "    pos = row['POS']\n",
    "    tag = row['New_Tag']\n",
    "\n",
    "    return len(token) == len(pos) and len(token) == len(tag)"
   ],
   "id": "f7796cb87920ae33",
   "outputs": [],
   "execution_count": 11
  },
  {
   "metadata": {
    "ExecuteTime": {
     "end_time": "2025-05-25T12:25:22.497255Z",
     "start_time": "2025-05-25T12:25:22.297976Z"
    }
   },
   "cell_type": "code",
   "source": [
    "# Create mask for valid rows\n",
    "valid_mask = df.apply(is_valid_row, axis=1)\n",
    "problematic_df = df[~valid_mask]\n",
    "clean_df = df[valid_mask]"
   ],
   "id": "9dc7d12ff35fafac",
   "outputs": [],
   "execution_count": 12
  },
  {
   "metadata": {
    "ExecuteTime": {
     "end_time": "2025-05-25T12:25:23.207517Z",
     "start_time": "2025-05-25T12:25:23.204497Z"
    }
   },
   "cell_type": "code",
   "source": [
    "print(f\"Total rows: {len(df)}\")\n",
    "print(f\"Problematic rows: {len(problematic_df)}\")\n",
    "print(f\"Clean rows: {len(clean_df)}\")"
   ],
   "id": "9d59393314867dc1",
   "outputs": [
    {
     "name": "stdout",
     "output_type": "stream",
     "text": [
      "Total rows: 47959\n",
      "Problematic rows: 223\n",
      "Clean rows: 47736\n"
     ]
    }
   ],
   "execution_count": 13
  },
  {
   "metadata": {},
   "cell_type": "markdown",
   "source": [
    "## Save the Separate Dataset\n",
    "- Direct use clean_df for training\n",
    "- problematic_df is only 0.0046 % out of total instances\n",
    "- manual correction for problematic_df if required"
   ],
   "id": "dfefa2a972e80e2e"
  },
  {
   "metadata": {
    "ExecuteTime": {
     "end_time": "2025-05-25T12:25:25.395276Z",
     "start_time": "2025-05-25T12:25:24.825352Z"
    }
   },
   "cell_type": "code",
   "source": [
    "# Save problematic instances for potential manual correction\n",
    "problematic_df.to_csv('dataset/problematic_instances.csv', index=False)\n",
    "clean_df.to_csv('dataset/clean_instances.csv', index=False)\n"
   ],
   "id": "2928e3ef285859bd",
   "outputs": [],
   "execution_count": 14
  },
  {
   "metadata": {},
   "cell_type": "markdown",
   "source": "## Convert to HuggingFace Dataset",
   "id": "ee2e6956d4948016"
  },
  {
   "metadata": {
    "ExecuteTime": {
     "end_time": "2025-05-25T12:25:27.226573Z",
     "start_time": "2025-05-25T12:25:27.015298Z"
    }
   },
   "cell_type": "code",
   "source": [
    "# Convert to HuggingFace Dataset\n",
    "dataset = Dataset.from_pandas(clean_df)"
   ],
   "id": "a4e2c449933b9f55",
   "outputs": [],
   "execution_count": 15
  },
  {
   "metadata": {},
   "cell_type": "markdown",
   "source": "## Final Verification",
   "id": "71cda5584f48f4f1"
  },
  {
   "metadata": {
    "ExecuteTime": {
     "end_time": "2025-05-25T12:25:32.768025Z",
     "start_time": "2025-05-25T12:25:28.927367Z"
    }
   },
   "cell_type": "code",
   "source": [
    "# Final verification\n",
    "def verify_dataset(dataset):\n",
    "    errors = 0\n",
    "    for example in dataset:\n",
    "        if len(example['Token']) != len(example['POS']) or len(example['Token']) != len(example['New_Tag']):\n",
    "            errors += 1\n",
    "    print(f\"Clean dataset contains {errors} length mismatch errors out of {len(dataset)} examples\")\n",
    "\n",
    "verify_dataset(dataset)"
   ],
   "id": "40c1a0f51119fe96",
   "outputs": [
    {
     "name": "stdout",
     "output_type": "stream",
     "text": [
      "Clean dataset contains 0 length mismatch errors out of 47736 examples\n"
     ]
    }
   ],
   "execution_count": 16
  },
  {
   "metadata": {},
   "cell_type": "code",
   "outputs": [],
   "execution_count": null,
   "source": "",
   "id": "91b320bd6366e6cf"
  },
  {
   "metadata": {},
   "cell_type": "code",
   "outputs": [],
   "execution_count": null,
   "source": "",
   "id": "225b4d8621d2fca8"
  }
 ],
 "metadata": {
  "kernelspec": {
   "display_name": "Python 3",
   "language": "python",
   "name": "python3"
  },
  "language_info": {
   "codemirror_mode": {
    "name": "ipython",
    "version": 2
   },
   "file_extension": ".py",
   "mimetype": "text/x-python",
   "name": "python",
   "nbconvert_exporter": "python",
   "pygments_lexer": "ipython2",
   "version": "2.7.6"
  }
 },
 "nbformat": 4,
 "nbformat_minor": 5
}
